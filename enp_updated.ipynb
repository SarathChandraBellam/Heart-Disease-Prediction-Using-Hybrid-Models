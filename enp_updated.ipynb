{
 "cells": [
  {
   "cell_type": "markdown",
   "metadata": {},
   "source": [
    "### Authentication by encrypted negative password"
   ]
  },
  {
   "cell_type": "markdown",
   "metadata": {},
   "source": [
    "## Authentication"
   ]
  },
  {
   "cell_type": "code",
   "execution_count": 2,
   "metadata": {},
   "outputs": [],
   "source": [
    "import os\n",
    "import binascii\n",
    "import json\n",
    "import base64\n",
    "import hashlib\n",
    "from Crypto import Random\n",
    "from Crypto.Cipher import AES\n",
    "import random"
   ]
  },
  {
   "cell_type": "markdown",
   "metadata": {},
   "source": [
    "##### converting the given password into bytes"
   ]
  },
  {
   "cell_type": "code",
   "execution_count": 3,
   "metadata": {},
   "outputs": [
    {
     "data": {
      "text/plain": [
       "b'pavaniMandadi8'"
      ]
     },
     "execution_count": 3,
     "metadata": {},
     "output_type": "execute_result"
    }
   ],
   "source": [
    "password = \"pavaniMandadi8\"\n",
    "byte_pass = bytes(password, \"utf-8\")\n",
    "byte_pass"
   ]
  },
  {
   "cell_type": "markdown",
   "metadata": {},
   "source": [
    "##### Generating the Hex digit and binary digit of the given byte string"
   ]
  },
  {
   "cell_type": "code",
   "execution_count": 54,
   "metadata": {},
   "outputs": [
    {
     "name": "stdout",
     "output_type": "stream",
     "text": [
      "Hex Digit of given password : c290f15db1f4c02480186dc96d2a35622e04e116520f3502023a8affa9738d6d\n",
      "Binary Digit of given password : 1100001010010000111100010101110110110001111101001100000000100100100000000001100001101101110010010110110100101010001101010110001000101110000001001110000100010110010100100000111100110101000000100000001000111010100010101111111110101001011100111000110101101101\n"
     ]
    }
   ],
   "source": [
    "hash_256 = hashlib.sha256()\n",
    "hash_256.update(byte_pass)\n",
    "hex_digit = hash_256.hexdigest()\n",
    "binary_digit = bin(int(hex_digit, 16))[2:].zfill(256)   #\"{0:08b}\".format(int(hex_digit, 16))\n",
    "print(\"Hex Digit of given password :\",hex_digit)\n",
    "print(\"Binary Digit of given password :\",binary_digit)"
   ]
  },
  {
   "cell_type": "markdown",
   "metadata": {},
   "source": [
    "##### FInding the Nth permutation of the binary digit - N is the last permutation of the given password string"
   ]
  },
  {
   "cell_type": "code",
   "execution_count": 20,
   "metadata": {},
   "outputs": [
    {
     "name": "stdout",
     "output_type": "stream",
     "text": [
      "The % Permutation of binary digit is : %s 14 1011011010110001110011101001010111111111010100010101110001000000010000001010110011110000010010100110100010000111001000000111010001000110101011000101010010110110100100111011011000011000000000010010010000000011001011111000110110111010100011110000100101000011\n"
     ]
    }
   ],
   "source": [
    "def npermute(binary_digit):\n",
    "    return binary_digit[::-1]\n",
    "\n",
    "n_permutated_str = npermute(binary_digit) \n",
    "\n",
    "print(\"The % Permutation of binary digit is : %s\", len(password), n_permutated_str)"
   ]
  },
  {
   "cell_type": "markdown",
   "metadata": {},
   "source": [
    "##### Generating negative database with sequence of symbols"
   ]
  },
  {
   "cell_type": "code",
   "execution_count": 21,
   "metadata": {},
   "outputs": [],
   "source": [
    "symbols = {\"00\": \"0\", \"01\": \"1\", \"11\": \"*\", \"10\": \"*\"}\n",
    "sequence_of_symbols = \"\".join([symbols[n_permutated_str[each: each + 2]] for each in range(0, len(n_permutated_str)) if each < len(n_permutated_str)-1])"
   ]
  },
  {
   "cell_type": "markdown",
   "metadata": {},
   "source": [
    "##### Negate the permutated string if the ndb ends with * and generate ndb with negated string"
   ]
  },
  {
   "cell_type": "code",
   "execution_count": 22,
   "metadata": {},
   "outputs": [
    {
     "data": {
      "text/plain": [
       "'1*01*01*1*01***001**001*1**1*1*000000001*1*1***1*1*001***1*******1******1*1*01**0001*****1**1*1**01*1***1****001**1******001*1***1***01*1*1*01***1*1*1**1*01*01*1**1**001*01*01****01**********1**1**1********01**1*00001***01*01*001*1*1***0001****1**1*1****0'"
      ]
     },
     "execution_count": 22,
     "metadata": {},
     "output_type": "execute_result"
    }
   ],
   "source": [
    "def negate(symbols_string):\n",
    "    return \"\".join([str(int(not(int(each)))) for each in symbols_string])\n",
    "\n",
    "n_permutated_negate = negate(n_permutated_str)\n",
    "sequence_of_symbols_2 = \"\".join([symbols[n_permutated_negate[each: each + 2]] for each in range(0, len(n_permutated_negate)) if each < len(n_permutated_negate)-1])\n",
    "sequence_of_symbols_2"
   ]
  },
  {
   "cell_type": "markdown",
   "metadata": {},
   "source": [
    "##### Encrypting Negative database using AES"
   ]
  },
  {
   "cell_type": "code",
   "execution_count": 23,
   "metadata": {
    "scrolled": true
   },
   "outputs": [
    {
     "name": "stdout",
     "output_type": "stream",
     "text": [
      "AES Encrypted String : b'VzxW7nuvwYDrTBMktMNNxnTc9I/2A0yzA3/oE1V8ZjAuKJA8cXSDPMgLslFKaV/1RTRdFUM+BQzemybnlNElKT9zYoNAkQOEtzp6S5ly9DnABpZt9tUcKUxSL8U2v9YBnrY4+0FlMQ+QfWlc1hm85xL3kZg0vTSC4clYt2dDnWs487EiscoWtF8+Lrwylr5c2vGGsZZp60FOTLdZZFi5m5EPYJ39k7/5DEd4i/vOpkl6WCHPGvBIH30+t2oSS8FPSuROnlYHYy1kMJuxWUPQAWX9x7kDuRAEqCTFFKTuI50rcHvzpS1phYCv7WQfW2eWtYyuMX7Y5ym3zDlG8m1TmOo0JjEscKcSyRmpNfOhD2A='\n"
     ]
    }
   ],
   "source": [
    "BLOCK_SIZE = 16\n",
    "pad = lambda s: s + (BLOCK_SIZE - len(s) % BLOCK_SIZE) * chr(BLOCK_SIZE - len(s) % BLOCK_SIZE)\n",
    "\n",
    "\n",
    "def encrypt(raw, password):\n",
    "    private_key = hashlib.sha256(password.encode(\"utf-8\")).digest()\n",
    "    raw = pad(raw)\n",
    "    iv = Random.new().read(AES.block_size)\n",
    "    cipher = AES.new(private_key, AES.MODE_CBC, iv)\n",
    "    return base64.b64encode(iv + cipher.encrypt(raw))\n",
    "\n",
    "encoded_string = encrypt(sequence_of_symbols_2, password)\n",
    "\n",
    "print(\"AES Encrypted String :\", encoded_string)"
   ]
  },
  {
   "cell_type": "markdown",
   "metadata": {},
   "source": [
    "## Verification Phase"
   ]
  },
  {
   "cell_type": "markdown",
   "metadata": {},
   "source": [
    "\n",
    "##### decryption"
   ]
  },
  {
   "cell_type": "code",
   "execution_count": 24,
   "metadata": {},
   "outputs": [
    {
     "name": "stdout",
     "output_type": "stream",
     "text": [
      "AES decrypted String : 1*01*01*1*01***001**001*1**1*1*000000001*1*1***1*1*001***1*******1******1*1*01**0001*****1**1*1**01*1***1****001**1******001*1***1***01*1*1*01***1*1*1**1*01*01*1**1**001*01*01****01**********1**1**1********01**1*00001***01*01*001*1*1***0001****1**1*1****0\n",
      "0100100101001110001100010110101000000000101011101010001110111111101111110101001100001111101101011001011101111000110111111000101110111001010100111010101101001001011011000100100111100111111111101101101111111100110100000111001001000101011100001111011010111100\n"
     ]
    }
   ],
   "source": [
    "user_provided_password = \"pavaniMandadi8\"\n",
    "BLOCK_SIZE = 16\n",
    "unpad = lambda s: s[:-ord(s[len(s) - 1:])]\n",
    "symbols = {\"00\": \"0\", \"01\": \"1\", \"11\": \"*\", \"10\": \"*\"}\n",
    "symbols_reverse = {value:key for key, value in symbols.items()}\n",
    "\n",
    "def decrypt(enc, password):\n",
    "    private_key = hashlib.sha256(password.encode(\"utf-8\")).digest()\n",
    "    enc = base64.b64decode(enc)\n",
    "    iv = enc[:16]\n",
    "    cipher = AES.new(private_key, AES.MODE_CBC, iv)\n",
    "    return unpad(cipher.decrypt(enc[16:]))\n",
    "\n",
    "decrypted = decrypt(encoded_string, user_provided_password)\n",
    "decrypted_string = bytes.decode(decrypted)\n",
    "print(\"AES decrypted String :\", decrypted_string)\n",
    "print(n_permutated_negate)"
   ]
  },
  {
   "cell_type": "markdown",
   "metadata": {},
   "source": [
    "##### reverse NDB generation"
   ]
  },
  {
   "cell_type": "code",
   "execution_count": 25,
   "metadata": {},
   "outputs": [
    {
     "name": "stdout",
     "output_type": "stream",
     "text": [
      "1011011010110001110011101001010111111111010100010101110001000000010000001010110011110000010010100110100010000111001000000111010001000110101011000101010010110110100100111011011000011000000000010010010000000011001011111000110110111010100011110000100101000011\n"
     ]
    }
   ],
   "source": [
    "def backtrack_ndb(decrypted_str):\n",
    "    out = []\n",
    "    for ind, each in enumerate(decrypted_str):\n",
    "        if ind == 0:\n",
    "            start_ind_map = {\"0\": (\"0\", \"0\"), \"1\" : (\"0\", \"1\"), \"*\": (\"1\", \"*\")}\n",
    "            val, last_but = start_ind_map[each]\n",
    "        else:\n",
    "            if each == \"0\" and last_but == \"*\":\n",
    "                val, last_but = (\"0\", \"0\")\n",
    "            elif each == \"*\" and last_but == \"*\":\n",
    "                val, last_but = (\"1\", \"*\")\n",
    "            elif each == \"1\" and last_but == \"*\":\n",
    "                val, last_but = (\"0\", \"1\")\n",
    "            elif each == \"1\" and last_but == \"0\":\n",
    "                val, last_but = (\"0\", \"1\")\n",
    "            elif each == \"*\" and last_but == \"1\":\n",
    "                val, last_but = (\"1\", \"*\")\n",
    "            elif each == \"0\" and last_but == \"1\":\n",
    "                val, last_but = (\"1\", \"0\")\n",
    "            elif each == \"0\" and last_but == \"0\":\n",
    "                val, last_but = (\"0\", \"0\")\n",
    "            elif each == \"1\" and last_but == \"1\":\n",
    "                val, last_but = (\"1\", \"1\")\n",
    "            elif each == \"*\" and last_but == \"0\":\n",
    "                val, last_but = (\"0\", \"1\")\n",
    "        out.append(val)\n",
    "    out.append(last_but)\n",
    "    return \"\".join(out)\n",
    "\n",
    "back_track_ndb =  backtrack_ndb(decrypted_string)\n",
    "\n",
    "if not decrypted_string.endswith(\"*\"):\n",
    "    back_track_ndb = negate(back_track_ndb)\n",
    "print(n_permutated_str)"
   ]
  },
  {
   "cell_type": "markdown",
   "metadata": {},
   "source": [
    "##### Inverse permutated string"
   ]
  },
  {
   "cell_type": "code",
   "execution_count": 26,
   "metadata": {},
   "outputs": [
    {
     "data": {
      "text/plain": [
       "'1100001010010000111100010101110110110001111101001100000000100100100000000001100001101101110010010110110100101010001101010110001000101110000001001110000100010110010100100000111100110101000000100000001000111010100010101111111110101001011100111000110101101101'"
      ]
     },
     "execution_count": 26,
     "metadata": {},
     "output_type": "execute_result"
    }
   ],
   "source": [
    "inverse_permutated_string = npermute(back_track_ndb)\n",
    "inverse_permutated_string "
   ]
  },
  {
   "cell_type": "markdown",
   "metadata": {},
   "source": [
    "###### Binary string to hex digit "
   ]
  },
  {
   "cell_type": "code",
   "execution_count": 59,
   "metadata": {},
   "outputs": [
    {
     "data": {
      "text/plain": [
       "'c290f15db1f4c02480186dc96d2a35622e04e116520f3502023a8affa9738d6d'"
      ]
     },
     "execution_count": 59,
     "metadata": {},
     "output_type": "execute_result"
    }
   ],
   "source": [
    "divisons = [inverse_permutated_string[each: each + 4] for each in range(0, len(inverse_permutated_string), 4)]\n",
    "divisons\n",
    "res = []\n",
    "for each in divisons:\n",
    "    sum_val = sum([8*int(each[0]), 4*int(each[1]), 2*int(each[2]), 1*int(each[3])])\n",
    "    res.append(sum_val)\n",
    "letter_map = {10: \"a\", 11: \"b\", 12: \"c\", 13: \"d\", 14: \"e\", 15: \"f\"}\n",
    "\n",
    "hex_digit_decrypted = \"\".join([letter_map[every] if every in letter_map else str(every) for every in res])\n",
    "hex_digit_decrypted"
   ]
  },
  {
   "cell_type": "code",
   "execution_count": 60,
   "metadata": {},
   "outputs": [
    {
     "data": {
      "text/plain": [
       "True"
      ]
     },
     "execution_count": 60,
     "metadata": {},
     "output_type": "execute_result"
    }
   ],
   "source": [
    "hex_digit == hex_digit_decrypted"
   ]
  },
  {
   "cell_type": "markdown",
   "metadata": {},
   "source": [
    "#### Proof that n! th  permutation is the reverse of the string "
   ]
  },
  {
   "cell_type": "code",
   "execution_count": 62,
   "metadata": {},
   "outputs": [
    {
     "name": "stdout",
     "output_type": "stream",
     "text": [
      "last permutation : inavap\n",
      "reverse string : inavap\n"
     ]
    },
    {
     "data": {
      "text/plain": [
       "True"
      ]
     },
     "execution_count": 62,
     "metadata": {},
     "output_type": "execute_result"
    }
   ],
   "source": [
    "from itertools import permutations\n",
    "\n",
    "sample_str = \"pavani\"\n",
    "\n",
    "reverse_str = sample_str[::-1] # \"inavap\"\n",
    "\n",
    "def get_last_permutations(input_str):\n",
    "    perm = [\"\".join(x) for x in permutations(input_str)]\n",
    "    return perm[-1]\n",
    "    \n",
    "last_perm = get_last_permutations(sample_str)\n",
    "print(\"last permutation :\", last_perm)\n",
    "print(\"reverse string :\", reverse_str)\n",
    "\n",
    "last_perm == reverse_str"
   ]
  },
  {
   "cell_type": "code",
   "execution_count": 64,
   "metadata": {},
   "outputs": [
    {
     "name": "stdout",
     "output_type": "stream",
     "text": [
      "last permutation : 9865201\n",
      "reverse string : 9865201\n"
     ]
    },
    {
     "data": {
      "text/plain": [
       "True"
      ]
     },
     "execution_count": 64,
     "metadata": {},
     "output_type": "execute_result"
    }
   ],
   "source": [
    "sample_2 = \"1025689\"\n",
    "reverse_st = sample_2[::-1] # \"9865201\"\n",
    "\n",
    "last_perm_2 = get_last_permutations(sample_2)\n",
    "print(\"last permutation :\", last_perm_2)\n",
    "print(\"reverse string :\", reverse_st)\n",
    "\n",
    "last_perm_2 == reverse_st"
   ]
  },
  {
   "cell_type": "code",
   "execution_count": null,
   "metadata": {},
   "outputs": [],
   "source": []
  }
 ],
 "metadata": {
  "kernelspec": {
   "display_name": "Python 3",
   "language": "python",
   "name": "python3"
  },
  "language_info": {
   "codemirror_mode": {
    "name": "ipython",
    "version": 3
   },
   "file_extension": ".py",
   "mimetype": "text/x-python",
   "name": "python",
   "nbconvert_exporter": "python",
   "pygments_lexer": "ipython3",
   "version": "3.7.6"
  }
 },
 "nbformat": 4,
 "nbformat_minor": 4
}
