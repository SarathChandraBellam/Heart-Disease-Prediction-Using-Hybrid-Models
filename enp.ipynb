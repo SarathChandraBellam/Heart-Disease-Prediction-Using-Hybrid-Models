{
 "cells": [
  {
   "cell_type": "markdown",
   "metadata": {},
   "source": [
    "### Authentication by encrypted negative password"
   ]
  },
  {
   "cell_type": "markdown",
   "metadata": {},
   "source": [
    "## Authentication"
   ]
  },
  {
   "cell_type": "code",
   "execution_count": 9,
   "metadata": {},
   "outputs": [],
   "source": [
    "import os\n",
    "import binascii\n",
    "import json\n",
    "import base64\n",
    "import hashlib\n",
    "from Crypto import Random\n",
    "from Crypto.Cipher import AES\n",
    "import random"
   ]
  },
  {
   "cell_type": "markdown",
   "metadata": {},
   "source": [
    "##### converting the given password into bytes"
   ]
  },
  {
   "cell_type": "code",
   "execution_count": 10,
   "metadata": {},
   "outputs": [
    {
     "data": {
      "text/plain": [
       "b'pavaniMandadi8'"
      ]
     },
     "execution_count": 10,
     "metadata": {},
     "output_type": "execute_result"
    }
   ],
   "source": [
    "password = \"pavaniMandadi8\"\n",
    "byte_pass = bytes(password, \"utf-8\")\n",
    "byte_pass"
   ]
  },
  {
   "cell_type": "markdown",
   "metadata": {},
   "source": [
    "##### Generating the Hex digit and binary digit of the given byte string"
   ]
  },
  {
   "cell_type": "code",
   "execution_count": 11,
   "metadata": {},
   "outputs": [
    {
     "name": "stdout",
     "output_type": "stream",
     "text": [
      "Hex Digit of given password : c290f15db1f4c02480186dc96d2a35622e04e116520f3502023a8affa9738d6d\n",
      "Binary Digit of given password : 1100001010010000111100010101110110110001111101001100000000100100100000000001100001101101110010010110110100101010001101010110001000101110000001001110000100010110010100100000111100110101000000100000001000111010100010101111111110101001011100111000110101101101\n"
     ]
    }
   ],
   "source": [
    "hash_256 = hashlib.sha256()\n",
    "hash_256.update(byte_pass)\n",
    "hex_digit = hash_256.hexdigest()\n",
    "binary_digit = \"{0:08b}\".format(int(hex_digit, 16))\n",
    "print(\"Hex Digit of given password :\",hex_digit)\n",
    "print(\"Binary Digit of given password :\",binary_digit)"
   ]
  },
  {
   "cell_type": "markdown",
   "metadata": {},
   "source": [
    "##### FInding the Nth permutation of the binary digit - N is the length of the given password string"
   ]
  },
  {
   "cell_type": "code",
   "execution_count": 12,
   "metadata": {},
   "outputs": [
    {
     "name": "stdout",
     "output_type": "stream",
     "text": [
      "The % Permutation of binary digit is : %s 14 1100001010010000111100010101110110110001111101001100000000100100100000000001100001101101110010010110110100101010001101010110001000101110000001001110000100010110010100100000111100110101000000100000001000111010100010101111111110101001011100111000110110100111\n"
     ]
    }
   ],
   "source": [
    "def next_permutation(L): \n",
    "    n = len(L) \n",
    "    i = n - 2\n",
    "    while i >= 0 and L[i] >= L[i + 1]: \n",
    "        i -= 1\n",
    "    if i == -1: \n",
    "        return False\n",
    "    j = i + 1\n",
    "    while j < n and L[j] > L[i]: \n",
    "        j += 1\n",
    "    j -= 1\n",
    "    L[i], L[j] = L[j], L[i] \n",
    "    left = i + 1\n",
    "    right = n - 1\n",
    "    while left < right: \n",
    "        L[left], L[right] = L[right], L[left] \n",
    "        left += 1\n",
    "        right -= 1\n",
    "    return True\n",
    "\n",
    "def nPermute(string, n): \n",
    "    string = list(string) \n",
    "    new_string = []\n",
    "    j = 2\n",
    "    # we reach nth position \n",
    "    while next_permutation(string): \n",
    "        new_string = string \n",
    "  \n",
    "        # check for nth iteration \n",
    "        if j == n: \n",
    "            break\n",
    "        j += 1\n",
    "  \n",
    "    # print string after nth iteration \n",
    "    return ''.join(new_string)\n",
    "\n",
    "n_permutated_str = nPermute(binary_digit, len(password)) \n",
    "\n",
    "print(\"The % Permutation of binary digit is : %s\", len(password), n_permutated_str)"
   ]
  },
  {
   "cell_type": "markdown",
   "metadata": {},
   "source": [
    "##### Generating negative database with sequence of symbols"
   ]
  },
  {
   "cell_type": "code",
   "execution_count": 42,
   "metadata": {},
   "outputs": [
    {
     "data": {
      "text/plain": [
       "'**0001*1*01*0001****001*1*1***1**1**001*****1*01**00000001*01*01*0000000001**0001**1**1***01*01*1**1**1*01*1*1*001**1*1*1**001*001*1***000001*01***0001*001*1**01*1*01*00001****01**1*1*000001*0000001*001***1*1*001*1*1*********1*1*01*1***01***001**1**1*01**'"
      ]
     },
     "execution_count": 42,
     "metadata": {},
     "output_type": "execute_result"
    }
   ],
   "source": [
    "symbols = {\"00\": \"0\", \"01\": \"1\", \"11\": \"*\", \"10\": \"*\"}\n",
    "sequence_of_symbols = \"\".join([symbols[n_permutated_str[each: each + 2]] for each in range(0, len(n_permutated_str)) if each < len(n_permutated_str)-1])\n",
    "sequence_of_symbols"
   ]
  },
  {
   "cell_type": "markdown",
   "metadata": {},
   "source": [
    "##### Encrypting Negative database using AES"
   ]
  },
  {
   "cell_type": "code",
   "execution_count": 17,
   "metadata": {
    "scrolled": true
   },
   "outputs": [
    {
     "name": "stdout",
     "output_type": "stream",
     "text": [
      "AES Encrypted String : b'WNvbSzwBQWtfEyJYwrkOiUM8YTJLBGI0VbdhwYpCjzVyEVCmOMRDPmbK1XcvRgI3iKc69JCBVeCNf96Kv5ilaZoA9JE6JT6yYiHykxU0ajayD18DxAMdZ2RW6T7pDO7vGZqFiLcydRtb2TgoNXK3xRKkZjxpRKFRfsB1/MUe0WlmRgWG+imZsLnSSXIhOF12oNjVEl6flt68MOy1afi4CJTLjYwlo3/+t6xakRCaYIv/1XvAZbu/s3byDZ2A8kd4Bsctq0mqbfFP/awm+o6fSi6aQq7XSCqFDRwX4PP9EMLzwhRGJoNkOcAROZS3z+LycRSziJjpbi5F179Hh49EWCoF0AJcZuOfJ95RxH68E3c='\n"
     ]
    }
   ],
   "source": [
    "BLOCK_SIZE = 16\n",
    "pad = lambda s: s + (BLOCK_SIZE - len(s) % BLOCK_SIZE) * chr(BLOCK_SIZE - len(s) % BLOCK_SIZE)\n",
    "\n",
    "\n",
    "def encrypt(raw, password):\n",
    "    private_key = hashlib.sha256(password.encode(\"utf-8\")).digest()\n",
    "    raw = pad(raw)\n",
    "    iv = Random.new().read(AES.block_size)\n",
    "    cipher = AES.new(private_key, AES.MODE_CBC, iv)\n",
    "    return base64.b64encode(iv + cipher.encrypt(raw))\n",
    "\n",
    "encoded_string = encrypt(sequence_of_symbols, password)\n",
    "\n",
    "print(\"AES Encrypted String :\", encoded_string)"
   ]
  },
  {
   "cell_type": "markdown",
   "metadata": {},
   "source": [
    "## Verification Phase"
   ]
  },
  {
   "cell_type": "markdown",
   "metadata": {},
   "source": [
    "##### decryption"
   ]
  },
  {
   "cell_type": "code",
   "execution_count": 18,
   "metadata": {},
   "outputs": [
    {
     "name": "stdout",
     "output_type": "stream",
     "text": [
      "AES decrypted String : **0001*1*01*0001****001*1*1***1**1**001*****1*01**00000001*01*01*0000000001**0001**1**1***01*01*1**1**1*01*1*1*001**1*1*1**001*001*1***000001*01***0001*001*1**01*1*01*00001****01**1*1*000001*0000001*001***1*1*001*1*1*********1*1*01*1***01***001**1**1*01**\n"
     ]
    }
   ],
   "source": [
    "user_provided_password = \"pavaniMandadi8\"\n",
    "BLOCK_SIZE = 16\n",
    "unpad = lambda s: s[:-ord(s[len(s) - 1:])]\n",
    "symbols = {\"00\": \"0\", \"01\": \"1\", \"11\": \"*\", \"10\": \"*\"}\n",
    "symbols_reverse = {value:key for key, value in symbols.items()}\n",
    "\n",
    "def decrypt(enc, password):\n",
    "    private_key = hashlib.sha256(password.encode(\"utf-8\")).digest()\n",
    "    enc = base64.b64decode(enc)\n",
    "    iv = enc[:16]\n",
    "    cipher = AES.new(private_key, AES.MODE_CBC, iv)\n",
    "    return unpad(cipher.decrypt(enc[16:]))\n",
    "\n",
    "decrypted = decrypt(encoded_string, user_provided_password)\n",
    "decrypted_string = bytes.decode(decrypted)\n",
    "print(\"AES decrypted String :\", decrypted_string)"
   ]
  },
  {
   "cell_type": "code",
   "execution_count": 37,
   "metadata": {},
   "outputs": [
    {
     "data": {
      "text/plain": [
       "{'0': '00', '1': '01', '*': '10'}"
      ]
     },
     "execution_count": 37,
     "metadata": {},
     "output_type": "execute_result"
    }
   ],
   "source": [
    "sample = \"**0001*1*01*0001****001*1*1***1**1**001*****1*01**00000001*01*01*0000000001**0001**1**1***01*01*1**1**1*01*1*1*001**1*1*1**001*001*1***000001*01***0001*001*1**01*1*01*00001****01**1*1*000001*0000001*001***1*1*001*1*1*********1*1*01*1***01***001**1**1*01**\"\n",
    "symbols_reverse"
   ]
  },
  {
   "cell_type": "code",
   "execution_count": 38,
   "metadata": {},
   "outputs": [
    {
     "data": {
      "text/plain": [
       "'**00000001*01*0001*00000001****000001*01*01***01**01**000001*****01*0001**0000000000000001*0001*0001*00000000000000000001**00000001**01**01***0001*0001*01**01**01*0001*01*01*000001**01*01*01**000001*000001*01***000000000001*0001***00000001*000001*01**0001*01*0001*0000000001****0001**01*01*000000000001*00000000000001*000001***01*01*000001*01*01*********01*01*0001*01***0001***000001**01**01*0001**'"
      ]
     },
     "execution_count": 38,
     "metadata": {},
     "output_type": "execute_result"
    }
   ],
   "source": [
    "sample_list = \"\".join([symbols_reverse[each] if each in [\"1\", \"0\"] else each for each in sample])\n",
    "sample_list"
   ]
  },
  {
   "cell_type": "code",
   "execution_count": 41,
   "metadata": {},
   "outputs": [
    {
     "data": {
      "text/plain": [
       "'1100001010010000111100010101110110110001111101001100000000100100100000000001100001101101110010010110110100101010001101010110001000101110000001001110000100010110010100100000111100110101000000100000001000111010100010101111111110101001011100111000110110100111'"
      ]
     },
     "execution_count": 41,
     "metadata": {},
     "output_type": "execute_result"
    }
   ],
   "source": [
    "\"1100001010010000111100010101110110110001111101001100000000100100100000000001100001101101110010010110110100101010001101010110001000101110000001001110000100010110010100100000111100110101000000100000001000111010100010101111111110101001011100111000110110100111\""
   ]
  },
  {
   "cell_type": "code",
   "execution_count": null,
   "metadata": {},
   "outputs": [],
   "source": []
  }
 ],
 "metadata": {
  "kernelspec": {
   "display_name": "Python 3",
   "language": "python",
   "name": "python3"
  },
  "language_info": {
   "codemirror_mode": {
    "name": "ipython",
    "version": 3
   },
   "file_extension": ".py",
   "mimetype": "text/x-python",
   "name": "python",
   "nbconvert_exporter": "python",
   "pygments_lexer": "ipython3",
   "version": "3.7.6"
  }
 },
 "nbformat": 4,
 "nbformat_minor": 4
}
